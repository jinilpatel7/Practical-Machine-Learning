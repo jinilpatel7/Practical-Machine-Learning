{
 "cells": [
  {
   "cell_type": "markdown",
   "id": "8dc55fe4-6dde-4365-baff-d2ba4ae9b03d",
   "metadata": {},
   "source": [
    "<font size=\"11\">**Hierarchical Clustering Analysis of Country-Wise Air Quality Index (AQI) for the Year 2023**</font>"
   ]
  },
  {
   "cell_type": "code",
   "execution_count": 194,
   "id": "92ff0dca-410b-473d-ad35-be3e5f4ebcb2",
   "metadata": {},
   "outputs": [],
   "source": [
    "import pandas as pd\n",
    "import numpy as np\n",
    "import matplotlib.pyplot as plt"
   ]
  },
  {
   "cell_type": "code",
   "execution_count": 195,
   "id": "c44bda48-5355-4edc-8f0a-9fb4a1158fee",
   "metadata": {},
   "outputs": [
    {
     "data": {
      "text/html": [
       "<div>\n",
       "<style scoped>\n",
       "    .dataframe tbody tr th:only-of-type {\n",
       "        vertical-align: middle;\n",
       "    }\n",
       "\n",
       "    .dataframe tbody tr th {\n",
       "        vertical-align: top;\n",
       "    }\n",
       "\n",
       "    .dataframe thead th {\n",
       "        text-align: right;\n",
       "    }\n",
       "</style>\n",
       "<table border=\"1\" class=\"dataframe\">\n",
       "  <thead>\n",
       "    <tr style=\"text-align: right;\">\n",
       "      <th></th>\n",
       "      <th>Year</th>\n",
       "      <th>Country</th>\n",
       "      <th>AQI Value</th>\n",
       "    </tr>\n",
       "  </thead>\n",
       "  <tbody>\n",
       "    <tr>\n",
       "      <th>0</th>\n",
       "      <td>2023</td>\n",
       "      <td>Albania</td>\n",
       "      <td>25.68</td>\n",
       "    </tr>\n",
       "    <tr>\n",
       "      <th>1</th>\n",
       "      <td>2023</td>\n",
       "      <td>Algeria</td>\n",
       "      <td>51.43</td>\n",
       "    </tr>\n",
       "    <tr>\n",
       "      <th>2</th>\n",
       "      <td>2023</td>\n",
       "      <td>Andorra</td>\n",
       "      <td>26.00</td>\n",
       "    </tr>\n",
       "    <tr>\n",
       "      <th>3</th>\n",
       "      <td>2023</td>\n",
       "      <td>Angola</td>\n",
       "      <td>109.64</td>\n",
       "    </tr>\n",
       "    <tr>\n",
       "      <th>4</th>\n",
       "      <td>2023</td>\n",
       "      <td>Argentina</td>\n",
       "      <td>30.59</td>\n",
       "    </tr>\n",
       "    <tr>\n",
       "      <th>5</th>\n",
       "      <td>2023</td>\n",
       "      <td>Armenia</td>\n",
       "      <td>34.55</td>\n",
       "    </tr>\n",
       "    <tr>\n",
       "      <th>6</th>\n",
       "      <td>2023</td>\n",
       "      <td>Australia</td>\n",
       "      <td>46.50</td>\n",
       "    </tr>\n",
       "    <tr>\n",
       "      <th>7</th>\n",
       "      <td>2023</td>\n",
       "      <td>Austria</td>\n",
       "      <td>37.95</td>\n",
       "    </tr>\n",
       "    <tr>\n",
       "      <th>8</th>\n",
       "      <td>2023</td>\n",
       "      <td>Azerbaijan</td>\n",
       "      <td>38.68</td>\n",
       "    </tr>\n",
       "    <tr>\n",
       "      <th>9</th>\n",
       "      <td>2023</td>\n",
       "      <td>Bahrain</td>\n",
       "      <td>110.67</td>\n",
       "    </tr>\n",
       "  </tbody>\n",
       "</table>\n",
       "</div>"
      ],
      "text/plain": [
       "   Year     Country  AQI Value\n",
       "0  2023     Albania      25.68\n",
       "1  2023     Algeria      51.43\n",
       "2  2023     Andorra      26.00\n",
       "3  2023      Angola     109.64\n",
       "4  2023   Argentina      30.59\n",
       "5  2023     Armenia      34.55\n",
       "6  2023   Australia      46.50\n",
       "7  2023     Austria      37.95\n",
       "8  2023  Azerbaijan      38.68\n",
       "9  2023     Bahrain     110.67"
      ]
     },
     "execution_count": 195,
     "metadata": {},
     "output_type": "execute_result"
    }
   ],
   "source": [
    "df = pd.read_csv(r\"C:\\Users\\jinil\\Desktop\\Hierarchical clustering\\Countrywise_AQI_dataset.csv\")\n",
    "df.head(10)"
   ]
  },
  {
   "cell_type": "code",
   "execution_count": 196,
   "id": "f45db012-fb51-4b64-8ddf-ce7bbe464eaf",
   "metadata": {},
   "outputs": [
    {
     "name": "stdout",
     "output_type": "stream",
     "text": [
      "<class 'pandas.core.frame.DataFrame'>\n",
      "RangeIndex: 141 entries, 0 to 140\n",
      "Data columns (total 3 columns):\n",
      " #   Column     Non-Null Count  Dtype  \n",
      "---  ------     --------------  -----  \n",
      " 0   Year       141 non-null    int64  \n",
      " 1   Country    141 non-null    object \n",
      " 2   AQI Value  141 non-null    float64\n",
      "dtypes: float64(1), int64(1), object(1)\n",
      "memory usage: 3.4+ KB\n"
     ]
    }
   ],
   "source": [
    "df.info()"
   ]
  },
  {
   "cell_type": "code",
   "execution_count": 197,
   "id": "aab0eba1-3d82-4b8c-a212-ed76e911c967",
   "metadata": {},
   "outputs": [
    {
     "data": {
      "text/plain": [
       "0"
      ]
     },
     "execution_count": 197,
     "metadata": {},
     "output_type": "execute_result"
    }
   ],
   "source": [
    "df.duplicated().sum()"
   ]
  },
  {
   "cell_type": "code",
   "execution_count": 198,
   "id": "d007e246-9cfa-491c-8aea-bdf107bbc7a7",
   "metadata": {},
   "outputs": [
    {
     "data": {
      "text/plain": [
       "Year         0\n",
       "Country      0\n",
       "AQI Value    0\n",
       "dtype: int64"
      ]
     },
     "execution_count": 198,
     "metadata": {},
     "output_type": "execute_result"
    }
   ],
   "source": [
    "df.isnull().sum()"
   ]
  },
  {
   "cell_type": "code",
   "execution_count": 199,
   "id": "b24f30d3-78cd-4058-bd92-cfae0c1c31c6",
   "metadata": {},
   "outputs": [],
   "source": [
    "x = df['AQI Value']"
   ]
  },
  {
   "cell_type": "code",
   "execution_count": 202,
   "id": "986e957d-d12d-4743-b21a-16dcad8ccc97",
   "metadata": {},
   "outputs": [],
   "source": [
    "from sklearn.preprocessing import StandardScaler\n",
    "scaler = StandardScaler()\n",
    "x = scaler.fit_transform(df[['AQI Value']])"
   ]
  },
  {
   "cell_type": "code",
   "execution_count": 203,
   "id": "70480bc0-bdca-4cbb-9507-f40adca8ee09",
   "metadata": {},
   "outputs": [
    {
     "data": {
      "text/plain": [
       "array([[-0.97863059],\n",
       "       [-0.36548453],\n",
       "       [-0.97101091],\n",
       "       [ 1.02058274],\n",
       "       [-0.86171614],\n",
       "       [-0.76742261],\n",
       "       [-0.48287522],\n",
       "       [-0.68646352],\n",
       "       [-0.66908113],\n",
       "       [ 1.04510858],\n",
       "       [ 1.48371636],\n",
       "       [-0.64741266],\n",
       "       [ 0.08098105],\n",
       "       [-0.84766736],\n",
       "       [-1.21126892],\n",
       "       [-0.7498021 ],\n",
       "       [-0.07593672],\n",
       "       [ 0.39053051],\n",
       "       [-1.27722677],\n",
       "       [-0.8769555 ],\n",
       "       [ 3.05313216],\n",
       "       [-0.70146476],\n",
       "       [ 0.797469  ],\n",
       "       [-0.70479837],\n",
       "       [-1.1186422 ],\n",
       "       [ 0.94700521],\n",
       "       [ 3.21981264],\n",
       "       [ 2.05423984],\n",
       "       [ 3.86700914],\n",
       "       [ 0.15789218],\n",
       "       [-0.99910848],\n",
       "       [-0.71979961],\n",
       "       [-0.30428898],\n",
       "       [ 0.02478591],\n",
       "       [-1.04577902],\n",
       "       [-0.90505307],\n",
       "       [-0.35191198],\n",
       "       [ 0.01788058],\n",
       "       [ 0.38624444],\n",
       "       [-0.9612482 ],\n",
       "       [ 1.82564947],\n",
       "       [-0.59431302],\n",
       "       [-0.04450555],\n",
       "       [-1.06839994],\n",
       "       [ 0.73341608],\n",
       "       [-0.37358044],\n",
       "       [ 0.37648173],\n",
       "       [-0.15808639],\n",
       "       [-0.6400311 ],\n",
       "       [-0.32381441],\n",
       "       [-1.18960046],\n",
       "       [-1.1376914 ],\n",
       "       [-1.48819664],\n",
       "       [ 0.46744165],\n",
       "       [ 0.18932336],\n",
       "       [-0.19070814],\n",
       "       [-0.81218823],\n",
       "       [-1.22531771],\n",
       "       [ 3.53579121],\n",
       "       [ 0.66007666],\n",
       "       [ 1.73564201],\n",
       "       [ 1.31346415],\n",
       "       [-0.74146808],\n",
       "       [ 0.16860736],\n",
       "       [-0.18737453],\n",
       "       [-0.54883306],\n",
       "       [ 0.69150784],\n",
       "       [-0.06188794],\n",
       "       [-0.83790464],\n",
       "       [ 1.26298378],\n",
       "       [ 0.32790627],\n",
       "       [-0.68527294],\n",
       "       [ 0.61888277],\n",
       "       [ 0.12765158],\n",
       "       [ 0.461965  ],\n",
       "       [-1.07601962],\n",
       "       [ 0.38195837],\n",
       "       [-0.58383596],\n",
       "       [-1.1138799 ],\n",
       "       [-0.80766404],\n",
       "       [-0.68741598],\n",
       "       [-0.02283708],\n",
       "       [-0.40286858],\n",
       "       [ 0.09836344],\n",
       "       [ 0.01930927],\n",
       "       [-0.54669003],\n",
       "       [-0.60526631],\n",
       "       [ 1.5399115 ],\n",
       "       [-1.13340533],\n",
       "       [-0.74265865],\n",
       "       [-0.10308183],\n",
       "       [-0.59978967],\n",
       "       [ 0.91866953],\n",
       "       [ 0.6622197 ],\n",
       "       [ 0.33004931],\n",
       "       [-0.94553261],\n",
       "       [-0.76861318],\n",
       "       [ 0.41124652],\n",
       "       [-0.74908776],\n",
       "       [ 0.17075039],\n",
       "       [-0.27404838],\n",
       "       [-0.17118271],\n",
       "       [-0.29357381],\n",
       "       [ 0.221707  ],\n",
       "       [-0.95577156],\n",
       "       [-1.17674225],\n",
       "       [ 0.19146639],\n",
       "       [-1.2124595 ],\n",
       "       [ 0.31147634],\n",
       "       [ 0.27052057],\n",
       "       [-0.53597485],\n",
       "       [-0.06998385],\n",
       "       [ 0.0993159 ],\n",
       "       [ 0.37219566],\n",
       "       [-0.53383182],\n",
       "       [-0.449301  ],\n",
       "       [-0.64407905],\n",
       "       [ 1.55181724],\n",
       "       [ 1.03891759],\n",
       "       [ 0.32338209],\n",
       "       [-0.27833445],\n",
       "       [ 1.86541467],\n",
       "       [-0.66146145],\n",
       "       [-1.00553758],\n",
       "       [ 0.27480663],\n",
       "       [ 0.1136028 ],\n",
       "       [ 1.83445972],\n",
       "       [ 0.69007915],\n",
       "       [-0.75670744],\n",
       "       [ 1.32346498],\n",
       "       [ 0.24075619],\n",
       "       [ 0.95986342],\n",
       "       [-0.01307437],\n",
       "       [ 0.51387407],\n",
       "       [ 0.09502983],\n",
       "       [ 2.31711877],\n",
       "       [-0.07260311],\n",
       "       [-0.53597485],\n",
       "       [-1.21984106],\n",
       "       [ 1.00867699],\n",
       "       [ 0.14574832]])"
      ]
     },
     "execution_count": 203,
     "metadata": {},
     "output_type": "execute_result"
    }
   ],
   "source": [
    "x"
   ]
  },
  {
   "cell_type": "code",
   "execution_count": 204,
   "id": "e59cfebc-c4ba-4edb-8a8d-df99ffe5171a",
   "metadata": {},
   "outputs": [
    {
     "data": {
      "image/png": "[encoded data removed]",
      "text/plain": [
       "<Figure size 1600x800 with 1 Axes>"
      ]
     },
     "metadata": {},
     "output_type": "display_data"
    }
   ],
   "source": [
    "from scipy.cluster.hierarchy import linkage, dendrogram\n",
    "plt.figure(1, figsize=(16, 8))\n",
    "Dendo = dendrogram(linkage(x, method=\"complete\"))\n",
    "plt.title('Hierarchical Clustering Dendrogram')\n",
    "plt.xlabel('Index')\n",
    "plt.ylabel('Euclidean distance')\n",
    "plt.show()"
   ]
  },
  {
   "cell_type": "code",
   "execution_count": 234,
   "id": "abdd29c5-327f-4415-a274-8d8c61a9bea6",
   "metadata": {},
   "outputs": [
    {
     "data": {
      "image/png": "[encoded data removed]",
      "text/plain": [
       "<Figure size 1600x800 with 1 Axes>"
      ]
     },
     "metadata": {},
     "output_type": "display_data"
    }
   ],
   "source": [
    "plt.figure(1, figsize=(16, 8))\n",
    "Dendo = dendrogram(linkage(x, method=\"complete\"))\n",
    "plt.axhline(y=3, color='r', linestyle='--', label='Threshold at index 3')\n",
    "plt.title('Hierarchical Clustering Dendrogram')\n",
    "plt.xlabel('Index')\n",
    "plt.ylabel('Euclidean distance')\n",
    "plt.show()"
   ]
  },
  {
   "cell_type": "code",
   "execution_count": 235,
   "id": "4ef1c810-0b8f-43da-971d-625bbd9e3ae4",
   "metadata": {},
   "outputs": [],
   "source": [
    "from sklearn.cluster import AgglomerativeClustering\n",
    "cluster = AgglomerativeClustering(n_clusters=3, metric='euclidean', linkage='ward')\n",
    "labels = cluster.fit_predict(x)"
   ]
  },
  {
   "cell_type": "code",
   "execution_count": 236,
   "id": "4f573e96-9692-443e-a2f0-a7534e840399",
   "metadata": {},
   "outputs": [
    {
     "data": {
      "text/plain": [
       "array([2, 1, 2, 0, 2, 2, 2, 2, 2, 0, 0, 2, 1, 2, 2, 2, 1, 1, 2, 2, 0, 2,\n",
       "       0, 2, 2, 0, 0, 0, 0, 1, 2, 2, 1, 1, 2, 2, 1, 1, 1, 2, 0, 2, 1, 2,\n",
       "       0, 1, 1, 1, 2, 1, 2, 2, 2, 1, 1, 1, 2, 2, 0, 0, 0, 0, 2, 1, 1, 2,\n",
       "       0, 1, 2, 0, 1, 2, 0, 1, 1, 2, 1, 2, 2, 2, 2, 1, 1, 1, 1, 2, 2, 0,\n",
       "       2, 2, 1, 2, 0, 0, 1, 2, 2, 1, 2, 1, 1, 1, 1, 1, 2, 2, 1, 2, 1, 1,\n",
       "       2, 1, 1, 1, 2, 2, 2, 0, 0, 1, 1, 0, 2, 2, 1, 1, 0, 0, 2, 0, 1, 0,\n",
       "       1, 1, 1, 0, 1, 2, 2, 0, 1], dtype=int64)"
      ]
     },
     "execution_count": 236,
     "metadata": {},
     "output_type": "execute_result"
    }
   ],
   "source": [
    "labels"
   ]
  },
  {
   "cell_type": "code",
   "execution_count": 242,
   "id": "cf098d76-dfb5-493d-ad6b-29560f04a3b8",
   "metadata": {},
   "outputs": [
    {
     "data": {
      "text/html": [
       "<div>\n",
       "<style scoped>\n",
       "    .dataframe tbody tr th:only-of-type {\n",
       "        vertical-align: middle;\n",
       "    }\n",
       "\n",
       "    .dataframe tbody tr th {\n",
       "        vertical-align: top;\n",
       "    }\n",
       "\n",
       "    .dataframe thead th {\n",
       "        text-align: right;\n",
       "    }\n",
       "</style>\n",
       "<table border=\"1\" class=\"dataframe\">\n",
       "  <thead>\n",
       "    <tr style=\"text-align: right;\">\n",
       "      <th></th>\n",
       "      <th>Year</th>\n",
       "      <th>Country</th>\n",
       "      <th>AQI Value</th>\n",
       "      <th>Cluster</th>\n",
       "    </tr>\n",
       "  </thead>\n",
       "  <tbody>\n",
       "    <tr>\n",
       "      <th>0</th>\n",
       "      <td>2023</td>\n",
       "      <td>Albania</td>\n",
       "      <td>25.68</td>\n",
       "      <td>2</td>\n",
       "    </tr>\n",
       "    <tr>\n",
       "      <th>1</th>\n",
       "      <td>2023</td>\n",
       "      <td>Algeria</td>\n",
       "      <td>51.43</td>\n",
       "      <td>1</td>\n",
       "    </tr>\n",
       "    <tr>\n",
       "      <th>2</th>\n",
       "      <td>2023</td>\n",
       "      <td>Andorra</td>\n",
       "      <td>26.00</td>\n",
       "      <td>2</td>\n",
       "    </tr>\n",
       "    <tr>\n",
       "      <th>3</th>\n",
       "      <td>2023</td>\n",
       "      <td>Angola</td>\n",
       "      <td>109.64</td>\n",
       "      <td>0</td>\n",
       "    </tr>\n",
       "    <tr>\n",
       "      <th>4</th>\n",
       "      <td>2023</td>\n",
       "      <td>Argentina</td>\n",
       "      <td>30.59</td>\n",
       "      <td>2</td>\n",
       "    </tr>\n",
       "    <tr>\n",
       "      <th>...</th>\n",
       "      <td>...</td>\n",
       "      <td>...</td>\n",
       "      <td>...</td>\n",
       "      <td>...</td>\n",
       "    </tr>\n",
       "    <tr>\n",
       "      <th>136</th>\n",
       "      <td>2023</td>\n",
       "      <td>Uzbekistan</td>\n",
       "      <td>63.73</td>\n",
       "      <td>1</td>\n",
       "    </tr>\n",
       "    <tr>\n",
       "      <th>137</th>\n",
       "      <td>2023</td>\n",
       "      <td>Vatican</td>\n",
       "      <td>44.27</td>\n",
       "      <td>2</td>\n",
       "    </tr>\n",
       "    <tr>\n",
       "      <th>138</th>\n",
       "      <td>2023</td>\n",
       "      <td>Venezuela</td>\n",
       "      <td>15.55</td>\n",
       "      <td>2</td>\n",
       "    </tr>\n",
       "    <tr>\n",
       "      <th>139</th>\n",
       "      <td>2023</td>\n",
       "      <td>Vietnam</td>\n",
       "      <td>109.14</td>\n",
       "      <td>0</td>\n",
       "    </tr>\n",
       "    <tr>\n",
       "      <th>140</th>\n",
       "      <td>2023</td>\n",
       "      <td>Zambia</td>\n",
       "      <td>72.90</td>\n",
       "      <td>1</td>\n",
       "    </tr>\n",
       "  </tbody>\n",
       "</table>\n",
       "<p>141 rows × 4 columns</p>\n",
       "</div>"
      ],
      "text/plain": [
       "     Year     Country  AQI Value  Cluster\n",
       "0    2023     Albania      25.68        2\n",
       "1    2023     Algeria      51.43        1\n",
       "2    2023     Andorra      26.00        2\n",
       "3    2023      Angola     109.64        0\n",
       "4    2023   Argentina      30.59        2\n",
       "..    ...         ...        ...      ...\n",
       "136  2023  Uzbekistan      63.73        1\n",
       "137  2023     Vatican      44.27        2\n",
       "138  2023   Venezuela      15.55        2\n",
       "139  2023     Vietnam     109.14        0\n",
       "140  2023      Zambia      72.90        1\n",
       "\n",
       "[141 rows x 4 columns]"
      ]
     },
     "execution_count": 242,
     "metadata": {},
     "output_type": "execute_result"
    }
   ],
   "source": [
    "df['Cluster'] = labels\n",
    "df"
   ]
  },
  {
   "cell_type": "code",
   "execution_count": 254,
   "id": "ffe68baf-cfb2-4840-b5c0-615f62f7ca55",
   "metadata": {},
   "outputs": [
    {
     "name": "stdout",
     "output_type": "stream",
     "text": [
      "\n",
      "Countries in each cluster:\n"
     ]
    },
    {
     "data": {
      "text/plain": [
       "Cluster\n",
       "0                                                                                                                                                                                                                                                                                                                                  [Angola, Bahrain, Bangladesh, Burkina Faso, Canada, Central African Republic, Chad, Chile, China, Ethiopia, Gabon, India, Indonesia, Iran, Iraq, Japan, Kazakhstan, Kuwait, Mexico, Myanmar, Nepal, South Africa, South Korea, Sudan, Thailand, Togo, Turkey, Uganda, United States of America, Vietnam]\n",
       "1                               [Algeria, Belgium, Bosnia and Herzegovina, Brazil, Colombia, Cyprus, Czech Republic, Ecuador, Egypt, El Salvador, France, Georgia, Germany, Ghana, Greece, Guatemala, Honduras, Hong Kong, Israel, Italy, Jersey, Kenya, Kyrgyzstan, Laos, Lebanon, Macao, Macedonia, Madagascar, Malaysia, Mongolia, Netherlands, Nigeria, Pakistan, Palestinian Territory, Peru, Philippines, Poland, Qatar, Romania, Russia, Saudi Arabia, Senegal, Serbia, Spain, Sri Lanka, Taiwan, Tajikistan, Turkmenistan, Ukraine, United Arab Emirates, United Kingdom of Great Britain and Northern Ireland, Uzbekistan, Zambia]\n",
       "2    [Albania, Andorra, Argentina, Armenia, Australia, Austria, Azerbaijan, Belarus, Belize, Bermuda, Bolivia, Brunei, Bulgaria, Cambodia, Cape Verde, Cayman Islands, Costa Rica, Croatia, Denmark, Dominican Republic, Estonia, Finland, French Guiana, Gibraltar, Grenada, Guadeloupe, Guam, Hungary, Iceland, Ireland, Ivory Coast, Jordan, Kosovo, Latvia, Liberia, Liechtenstein, Lithuania, Luxembourg, Malta, Martinique, Moldova, Monaco, Montenegro, New Caledonia, New Zealand, Norway, Portugal, Puerto Rico, Reunion, San Marino, Singapore, Slovakia, Slovenia, Sweden, Switzerland, Trinidad and Tobago, Vatican, Venezuela]\n",
       "Name: Country, dtype: object"
      ]
     },
     "execution_count": 254,
     "metadata": {},
     "output_type": "execute_result"
    }
   ],
   "source": [
    "pd.set_option('display.max_rows', None)      # Show all rows\n",
    "grouped_clusters = df.groupby('Cluster')['Country'].apply(list)\n",
    "print(\"\\nCountries in each cluster:\")\n",
    "grouped_clusters\n",
    "\n"
   ]
  },
  {
   "cell_type": "code",
   "execution_count": 237,
   "id": "4b38f5f6-53c0-42fc-a7f7-4359190e0bf4",
   "metadata": {},
   "outputs": [
    {
     "data": {
      "text/plain": [
       "<matplotlib.collections.PathCollection at 0x1f6b87a8620>"
      ]
     },
     "execution_count": 237,
     "metadata": {},
     "output_type": "execute_result"
    },
    {
     "data": {
      "image/png": "[encoded data removed]",
      "text/plain": [
       "<Figure size 640x480 with 1 Axes>"
      ]
     },
     "metadata": {},
     "output_type": "display_data"
    }
   ],
   "source": [
    "\n",
    "plt.scatter(x[:,0], np.zeros_like(x), c=cluster.labels_, cmap=\"rainbow\")\n",
    "# 1D scatter plot because of single feature"
   ]
  },
  {
   "cell_type": "code",
   "execution_count": 238,
   "id": "77df1768-08f8-4fed-9782-988180460ac1",
   "metadata": {},
   "outputs": [
    {
     "data": {
      "text/plain": [
       "0.5668119412182735"
      ]
     },
     "execution_count": 238,
     "metadata": {},
     "output_type": "execute_result"
    }
   ],
   "source": [
    "# **Silhouette coefficient:**  \n",
    "from sklearn import metrics\n",
    "metrics.silhouette_score(x, cluster.labels_)\n",
    "\n"
   ]
  },
  {
   "cell_type": "code",
   "execution_count": 239,
   "id": "40e0e04c-8770-4204-ad73-b7bd6cfe7deb",
   "metadata": {},
   "outputs": [
    {
     "data": {
      "text/plain": [
       "0.5637405553370983"
      ]
     },
     "execution_count": 239,
     "metadata": {},
     "output_type": "execute_result"
    }
   ],
   "source": [
    "\n",
    "metrics.davies_bouldin_score(x, cluster.labels_)"
   ]
  },
  {
   "cell_type": "code",
   "execution_count": 240,
   "id": "4d919f6c-3c44-4e40-ad5c-574c6fa1c398",
   "metadata": {},
   "outputs": [
    {
     "data": {
      "text/plain": [
       "257.72506675812286"
      ]
     },
     "execution_count": 240,
     "metadata": {},
     "output_type": "execute_result"
    }
   ],
   "source": [
    "\n",
    "metrics.calinski_harabasz_score(x, cluster.labels_)\n"
   ]
  },
  {
   "cell_type": "code",
   "execution_count": null,
   "id": "3cd2cef1-b847-4810-94ab-42322673b30a",
   "metadata": {},
   "outputs": [],
   "source": []
  },
  {
   "cell_type": "code",
   "execution_count": null,
   "id": "d1295c4a-fc90-460f-b149-b150c4ae6b6e",
   "metadata": {},
   "outputs": [],
   "source": []
  }
 ],
 "metadata": {
  "kernelspec": {
   "display_name": "Python 3 (ipykernel)",
   "language": "python",
   "name": "python3"
  },
  "language_info": {
   "codemirror_mode": {
    "name": "ipython",
    "version": 3
   },
   "file_extension": ".py",
   "mimetype": "text/x-python",
   "name": "python",
   "nbconvert_exporter": "python",
   "pygments_lexer": "ipython3",
   "version": "3.12.4"
  }
 },
 "nbformat": 4,
 "nbformat_minor": 5
}
